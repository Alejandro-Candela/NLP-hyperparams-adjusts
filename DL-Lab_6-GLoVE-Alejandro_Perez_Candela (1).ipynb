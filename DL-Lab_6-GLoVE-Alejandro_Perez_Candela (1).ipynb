{
 "cells": [
  {
   "cell_type": "markdown",
   "id": "5393a6c1",
   "metadata": {},
   "source": [
    "# DL-Lab 6 - Implementación de GLoVe\n",
    "\n",
    "Este lab contiene una implementación paso a paso de técnicas de optimización de entrenamiento utilizando embeddings de palabras (GLoVe). A continuación se presentan los pasos detallados y los bloques de código extraídos del notebook."
   ]
  },
  {
   "cell_type": "markdown",
   "id": "77db4a8d",
   "metadata": {},
   "source": [
    "## Técnicas Cubiertas:\n",
    "\n",
    "- Importación de librerías y fijación de semilla aleatoria\n",
    "- Exploración y preprocesamiento de datos\n",
    "- Tokenización y embeddings de palabras\n",
    "- Construcción y entrenamiento de modelos de redes neuronales\n",
    "- Ajuste de hiperparámetros y evaluación del modelo"
   ]
  },
  {
   "cell_type": "markdown",
   "id": "d3afd236",
   "metadata": {},
   "source": [
    "### 1. Importación de Librerías"
   ]
  },
  {
   "cell_type": "code",
   "execution_count": 23,
   "id": "0322b228",
   "metadata": {},
   "outputs": [],
   "source": [
    "import pandas as pd\n",
    "import numpy as np\n",
    "import re\n",
    "import os\n",
    "import random\n",
    "from matplotlib import pyplot as plt\n",
    "import nltk\n",
    "from nltk.corpus import stopwords\n",
    "from nltk.stem import WordNetLemmatizer\n",
    "from sklearn.metrics import ConfusionMatrixDisplay, confusion_matrix\n",
    "from sklearn.model_selection import train_test_split\n",
    "import tensorflow as tf\n",
    "from tensorflow.keras.preprocessing.sequence import pad_sequences\n",
    "from tensorflow.keras.preprocessing.text import Tokenizer\n",
    "from tensorflow.keras.models import Sequential\n",
    "from tensorflow.keras.layers import Embedding, Dense, Dropout, BatchNormalization, Flatten, GlobalAveragePooling1D\n",
    "from tensorflow.keras.callbacks import EarlyStopping, LearningRateScheduler\n",
    "from tensorflow.keras.initializers import GlorotUniform\n",
    "from tensorflow.keras.regularizers import l1_l2\n",
    "from tensorflow.keras.optimizers import Adam, SGD, RMSprop, Adagrad"
   ]
  },
  {
   "cell_type": "code",
   "execution_count": 24,
   "id": "dcb558f2",
   "metadata": {},
   "outputs": [
    {
     "name": "stderr",
     "output_type": "stream",
     "text": [
      "[nltk_data] Downloading package stopwords to\n",
      "[nltk_data]     C:\\Users\\ALEX\\AppData\\Roaming\\nltk_data...\n",
      "[nltk_data]   Package stopwords is already up-to-date!\n",
      "[nltk_data] Downloading package wordnet to\n",
      "[nltk_data]     C:\\Users\\ALEX\\AppData\\Roaming\\nltk_data...\n",
      "[nltk_data]   Package wordnet is already up-to-date!\n",
      "[nltk_data] Downloading package omw-1.4 to\n",
      "[nltk_data]     C:\\Users\\ALEX\\AppData\\Roaming\\nltk_data...\n",
      "[nltk_data]   Package omw-1.4 is already up-to-date!\n"
     ]
    },
    {
     "data": {
      "text/plain": [
       "True"
      ]
     },
     "execution_count": 24,
     "metadata": {},
     "output_type": "execute_result"
    }
   ],
   "source": [
    "# Descargar recursos necesarios para NLTK\n",
    "nltk.download('stopwords')\n",
    "nltk.download('wordnet')\n",
    "nltk.download('omw-1.4')"
   ]
  },
  {
   "cell_type": "markdown",
   "id": "cd5b254d",
   "metadata": {},
   "source": [
    "### 2. Fijación de la Semilla Aleatoria"
   ]
  },
  {
   "cell_type": "code",
   "execution_count": 25,
   "id": "af67e5c7",
   "metadata": {},
   "outputs": [],
   "source": [
    "SEED_VALUE = 42\n",
    "tf.random.set_seed(SEED_VALUE)  # Semilla de TensorFlow\n",
    "np.random.seed(SEED_VALUE)  # Semilla de NumPy\n",
    "random.seed(SEED_VALUE)  # Semilla de Python\n",
    "os.environ['PYTHONHASHSEED'] = str(SEED_VALUE)  # Semilla para hash de Python para reproducibilidad"
   ]
  },
  {
   "cell_type": "markdown",
   "id": "30e4f449",
   "metadata": {},
   "source": [
    "### 3. Exploración de Datos"
   ]
  },
  {
   "cell_type": "code",
   "execution_count": 26,
   "id": "d1cc18c1",
   "metadata": {},
   "outputs": [],
   "source": [
    "file_path = 'IMDB Dataset.csv'\n",
    "try:\n",
    "    # Intentar cargar el archivo CSV\n",
    "    df = pd.read_csv(file_path)\n",
    "    df.head()\n",
    "except FileNotFoundError:\n",
    "    print(f\"Error: El archivo {file_path} no fue encontrado.\")\n",
    "except Exception as e:\n",
    "    print(f\"Ocurrió un error inesperado: {e}\")"
   ]
  },
  {
   "cell_type": "code",
   "execution_count": 27,
   "id": "a37603e0",
   "metadata": {},
   "outputs": [
    {
     "name": "stdout",
     "output_type": "stream",
     "text": [
      "Cantidad de valores nulos por columna:\n",
      "review       0\n",
      "sentiment    0\n",
      "dtype: int64\n"
     ]
    }
   ],
   "source": [
    "# Mostrar la cantidad de valores nulos por columna\n",
    "print(\"Cantidad de valores nulos por columna:\")\n",
    "print(df.isnull().sum())"
   ]
  },
  {
   "cell_type": "markdown",
   "id": "71ff2aee",
   "metadata": {},
   "source": [
    "### 4. Preprocesamiento y Limpieza"
   ]
  },
  {
   "cell_type": "code",
   "execution_count": 28,
   "id": "a04d7050",
   "metadata": {},
   "outputs": [],
   "source": [
    "lemmatizer = WordNetLemmatizer()\n",
    "stop_words = set(stopwords.words('english'))"
   ]
  },
  {
   "cell_type": "code",
   "execution_count": 29,
   "id": "09b4a8a3",
   "metadata": {},
   "outputs": [],
   "source": [
    "def preprocess_text(text):\n",
    "    # Eliminar etiquetas HTML\n",
    "    text = re.sub(r'<.*?>', '', text)\n",
    "    # Convertir el texto a minúsculas\n",
    "    text = text.lower()\n",
    "    # Expandir contracciones comunes para un mejor análisis\n",
    "    contractions = {\n",
    "        \"can't\": \"cannot\",\n",
    "        \"won't\": \"will not\",\n",
    "        \"n't\": \" not\",\n",
    "        \"'re\": \" are\",\n",
    "        \"'s\": \" is\",\n",
    "        \"'d\": \" would\",\n",
    "        \"'ll\": \" will\",\n",
    "        \"'t\": \" not\",\n",
    "        \"'ve\": \" have\",\n",
    "        \"'m\": \" am\"\n",
    "    }\n",
    "    for contraction, full_form in contractions.items():\n",
    "        text = re.sub(contraction, full_form, text)\n",
    "    # Eliminar caracteres especiales y números\n",
    "    text = re.sub(r'[^a-zA-Z\\s]', '', text)\n",
    "    # Eliminar espacios adicionales\n",
    "    text = re.sub(r'\\s+', ' ', text).strip()\n",
    "    # Tokenizar el texto y eliminar stopwords\n",
    "    words = text.split()\n",
    "    words = [word for word in words if word not in stop_words]\n",
    "    # Lematizar las palabras para reducirlas a su forma base\n",
    "    words = [lemmatizer.lemmatize(word, pos='v') for word in words]\n",
    "    return ' '.join(words)"
   ]
  },
  {
   "cell_type": "code",
   "execution_count": 30,
   "id": "585e88ef",
   "metadata": {},
   "outputs": [],
   "source": [
    "# Aplicar la función a las reseñas\n",
    "df['review'] = df['review'].apply(preprocess_text)"
   ]
  },
  {
   "cell_type": "code",
   "execution_count": 31,
   "id": "a56520cc",
   "metadata": {},
   "outputs": [],
   "source": [
    "# Filtrar solo las clases 'Positive' y 'Negative'\n",
    "df_filtered = df[df['sentiment'].isin(['positive', 'negative'])]"
   ]
  },
  {
   "cell_type": "code",
   "execution_count": 32,
   "id": "f1c3840a",
   "metadata": {},
   "outputs": [],
   "source": [
    "# Mapear la columna 'sentiment' a valores numéricos\n",
    "df_filtered['sentiment'] = df_filtered['sentiment'].map({'positive': 1, 'negative': 0})"
   ]
  },
  {
   "cell_type": "code",
   "execution_count": 33,
   "id": "0788c100",
   "metadata": {},
   "outputs": [
    {
     "data": {
      "text/html": [
       "<div>\n",
       "<style scoped>\n",
       "    .dataframe tbody tr th:only-of-type {\n",
       "        vertical-align: middle;\n",
       "    }\n",
       "\n",
       "    .dataframe tbody tr th {\n",
       "        vertical-align: top;\n",
       "    }\n",
       "\n",
       "    .dataframe thead th {\n",
       "        text-align: right;\n",
       "    }\n",
       "</style>\n",
       "<table border=\"1\" class=\"dataframe\">\n",
       "  <thead>\n",
       "    <tr style=\"text-align: right;\">\n",
       "      <th></th>\n",
       "      <th>review</th>\n",
       "      <th>sentiment</th>\n",
       "    </tr>\n",
       "  </thead>\n",
       "  <tbody>\n",
       "    <tr>\n",
       "      <th>0</th>\n",
       "      <td>one reviewers mention watch oz episode hook ri...</td>\n",
       "      <td>1</td>\n",
       "    </tr>\n",
       "    <tr>\n",
       "      <th>1</th>\n",
       "      <td>wonderful little production film technique una...</td>\n",
       "      <td>1</td>\n",
       "    </tr>\n",
       "    <tr>\n",
       "      <th>2</th>\n",
       "      <td>think wonderful way spend time hot summer week...</td>\n",
       "      <td>1</td>\n",
       "    </tr>\n",
       "    <tr>\n",
       "      <th>3</th>\n",
       "      <td>basically family little boy jake think zombie ...</td>\n",
       "      <td>0</td>\n",
       "    </tr>\n",
       "    <tr>\n",
       "      <th>4</th>\n",
       "      <td>petter mattei love time money visually stun fi...</td>\n",
       "      <td>1</td>\n",
       "    </tr>\n",
       "  </tbody>\n",
       "</table>\n",
       "</div>"
      ],
      "text/plain": [
       "                                              review  sentiment\n",
       "0  one reviewers mention watch oz episode hook ri...          1\n",
       "1  wonderful little production film technique una...          1\n",
       "2  think wonderful way spend time hot summer week...          1\n",
       "3  basically family little boy jake think zombie ...          0\n",
       "4  petter mattei love time money visually stun fi...          1"
      ]
     },
     "execution_count": 33,
     "metadata": {},
     "output_type": "execute_result"
    }
   ],
   "source": [
    "df_filtered.head()"
   ]
  },
  {
   "cell_type": "code",
   "execution_count": 34,
   "id": "f87ba11d",
   "metadata": {},
   "outputs": [],
   "source": [
    "# Guardar el dataset limpiado a un archivo CSV\n",
    "cleaned_file_path = \"IMDB_Dataset_Cleaned.csv\"\n",
    "df_filtered.to_csv(cleaned_file_path, index=False)"
   ]
  },
  {
   "cell_type": "markdown",
   "id": "521dd1ea",
   "metadata": {},
   "source": [
    "### 5. Tokenización\n",
    "- Tokenizando el texto y convirtiéndolo en secuencias."
   ]
  },
  {
   "cell_type": "code",
   "execution_count": 45,
   "id": "04ca404f",
   "metadata": {},
   "outputs": [
    {
     "data": {
      "text/html": [
       "<div>\n",
       "<style scoped>\n",
       "    .dataframe tbody tr th:only-of-type {\n",
       "        vertical-align: middle;\n",
       "    }\n",
       "\n",
       "    .dataframe tbody tr th {\n",
       "        vertical-align: top;\n",
       "    }\n",
       "\n",
       "    .dataframe thead th {\n",
       "        text-align: right;\n",
       "    }\n",
       "</style>\n",
       "<table border=\"1\" class=\"dataframe\">\n",
       "  <thead>\n",
       "    <tr style=\"text-align: right;\">\n",
       "      <th></th>\n",
       "      <th>review</th>\n",
       "      <th>sentiment</th>\n",
       "    </tr>\n",
       "  </thead>\n",
       "  <tbody>\n",
       "    <tr>\n",
       "      <th>0</th>\n",
       "      <td>one reviewers mention watch oz episode hook ri...</td>\n",
       "      <td>1</td>\n",
       "    </tr>\n",
       "    <tr>\n",
       "      <th>1</th>\n",
       "      <td>wonderful little production film technique una...</td>\n",
       "      <td>1</td>\n",
       "    </tr>\n",
       "    <tr>\n",
       "      <th>2</th>\n",
       "      <td>think wonderful way spend time hot summer week...</td>\n",
       "      <td>1</td>\n",
       "    </tr>\n",
       "    <tr>\n",
       "      <th>3</th>\n",
       "      <td>basically family little boy jake think zombie ...</td>\n",
       "      <td>0</td>\n",
       "    </tr>\n",
       "    <tr>\n",
       "      <th>4</th>\n",
       "      <td>petter mattei love time money visually stun fi...</td>\n",
       "      <td>1</td>\n",
       "    </tr>\n",
       "  </tbody>\n",
       "</table>\n",
       "</div>"
      ],
      "text/plain": [
       "                                              review  sentiment\n",
       "0  one reviewers mention watch oz episode hook ri...          1\n",
       "1  wonderful little production film technique una...          1\n",
       "2  think wonderful way spend time hot summer week...          1\n",
       "3  basically family little boy jake think zombie ...          0\n",
       "4  petter mattei love time money visually stun fi...          1"
      ]
     },
     "execution_count": 45,
     "metadata": {},
     "output_type": "execute_result"
    }
   ],
   "source": [
    "df = pd.read_csv('IMDB_Dataset_Cleaned.csv')\n",
    "df.head()"
   ]
  },
  {
   "cell_type": "code",
   "execution_count": 46,
   "id": "a4dd432a",
   "metadata": {},
   "outputs": [],
   "source": [
    "embedding_dim = 100\n",
    "max_words = 10000  # Número máximo de palabras a mantener, basado en la frecuencia de las palabras"
   ]
  },
  {
   "cell_type": "code",
   "execution_count": 47,
   "id": "73aefdf1",
   "metadata": {},
   "outputs": [],
   "source": [
    "# Crear un tokenizador para convertir las palabras en índices numéricos\n",
    "tokenizer = Tokenizer(num_words=max_words)  # Limitar a las 10,000 palabras más frecuentes\n",
    "tokenizer.fit_on_texts(df['review'])  # Ajustar el tokenizador a las reseñas\n",
    "# Convertir las reseñas en secuencias de índices\n",
    "sequences = tokenizer.texts_to_sequences(df['review'])\n",
    "# Encontrar la longitud máxima de las secuencias para usar en el padding\n",
    "max_len = max(len(seq) for seq in sequences)\n",
    "# Rellenar las secuencias para que todas tengan la misma longitud\n",
    "data = pad_sequences(sequences, maxlen=max_len)"
   ]
  },
  {
   "cell_type": "markdown",
   "id": "8c623e64",
   "metadata": {},
   "source": [
    "### 6. Embeddings de Palabras con GLoVe\n",
    "- Cargando los embeddings de GloVe para crear una matriz de embeddings."
   ]
  },
  {
   "cell_type": "code",
   "execution_count": 48,
   "id": "e02f2804",
   "metadata": {},
   "outputs": [],
   "source": [
    "glove_path = 'glove.6B/glove.6B.100d.txt'"
   ]
  },
  {
   "cell_type": "code",
   "execution_count": 49,
   "id": "67538dca",
   "metadata": {},
   "outputs": [],
   "source": [
    "embeddings_index = {}\n",
    "# Cargar los embeddings de GloVe desde el archivo\n",
    "with open(glove_path, encoding='utf8') as f:\n",
    "    for line in f:\n",
    "        values = line.split()\n",
    "        word = values[0]  # La palabra\n",
    "        coefs = np.asarray(values[1:], dtype='float32')  # El vector de embeddings\n",
    "        embeddings_index[word] = coefs  # Añadir al diccionario\n",
    "\n",
    "# Crear la matriz de embeddings con las palabras del tokenizador\n",
    "num_words = min(max_words, len(tokenizer.word_index) + 1)\n",
    "embedding_matrix = np.zeros((num_words, embedding_dim))\n",
    "for word, i in tokenizer.word_index.items():\n",
    "    if i >= num_words:\n",
    "        continue\n",
    "    embedding_vector = embeddings_index.get(word)\n",
    "    if embedding_vector is not None:\n",
    "        embedding_matrix[i] = embedding_vector"
   ]
  },
  {
   "cell_type": "code",
   "execution_count": 50,
   "id": "d851fbc9",
   "metadata": {},
   "outputs": [
    {
     "data": {
      "text/plain": [
       "(10000, 100)"
      ]
     },
     "execution_count": 50,
     "metadata": {},
     "output_type": "execute_result"
    }
   ],
   "source": [
    "embedding_matrix.shape"
   ]
  },
  {
   "cell_type": "markdown",
   "id": "e34f0700",
   "metadata": {},
   "source": [
    "### 7. Construcción y Evaluación del Modelo\n",
    "- Definiendo un modelo de red neuronal simple y entrenándolo."
   ]
  },
  {
   "cell_type": "code",
   "execution_count": 58,
   "id": "762f26e4",
   "metadata": {},
   "outputs": [],
   "source": [
    "# Preparar las etiquetas\n",
    "labels = df['sentiment'].values\n",
    "\n",
    "# Dividir los datos en conjuntos de entrenamiento y validación\n",
    "X_train, X_val, y_train, y_val = train_test_split(data, labels, test_size=0.2, random_state=SEED_VALUE)"
   ]
  },
  {
   "cell_type": "code",
   "execution_count": 72,
   "id": "467deab7",
   "metadata": {},
   "outputs": [],
   "source": [
    "# Definir el modelo de red neuronal secuencial\n",
    "model = Sequential()\n",
    "# Añadir una capa de embedding que utiliza la matriz de embeddings preentrenada\n",
    "model.add(Embedding(input_dim=num_words,\n",
    "                    output_dim=embedding_dim,\n",
    "                    input_length=max_len,\n",
    "                    weights=[embedding_matrix],  # Usar la matriz de embeddings preentrenada\n",
    "                    trainable=False))  # No entrenar los embeddings\n",
    "# Añadir una capa GlobalAveragePooling para reducir dimensionalidad y prevenir el sobreajuste\n",
    "model.add(GlobalAveragePooling1D())\n",
    "# Añadir una capa densa para la salida (clasificación binaria)\n",
    "model.add(Dense(1, activation='sigmoid'))"
   ]
  },
  {
   "cell_type": "code",
   "execution_count": 73,
   "id": "d567cd23",
   "metadata": {},
   "outputs": [
    {
     "data": {
      "text/html": [
       "<pre style=\"white-space:pre;overflow-x:auto;line-height:normal;font-family:Menlo,'DejaVu Sans Mono',consolas,'Courier New',monospace\"><span style=\"font-weight: bold\">Model: \"sequential_9\"</span>\n",
       "</pre>\n"
      ],
      "text/plain": [
       "\u001b[1mModel: \"sequential_9\"\u001b[0m\n"
      ]
     },
     "metadata": {},
     "output_type": "display_data"
    },
    {
     "data": {
      "text/html": [
       "<pre style=\"white-space:pre;overflow-x:auto;line-height:normal;font-family:Menlo,'DejaVu Sans Mono',consolas,'Courier New',monospace\">┏━━━━━━━━━━━━━━━━━━━━━━━━━━━━━━━━━┳━━━━━━━━━━━━━━━━━━━━━━━━┳━━━━━━━━━━━━━━━┓\n",
       "┃<span style=\"font-weight: bold\"> Layer (type)                    </span>┃<span style=\"font-weight: bold\"> Output Shape           </span>┃<span style=\"font-weight: bold\">       Param # </span>┃\n",
       "┡━━━━━━━━━━━━━━━━━━━━━━━━━━━━━━━━━╇━━━━━━━━━━━━━━━━━━━━━━━━╇━━━━━━━━━━━━━━━┩\n",
       "│ embedding_9 (<span style=\"color: #0087ff; text-decoration-color: #0087ff\">Embedding</span>)         │ ?                      │     <span style=\"color: #00af00; text-decoration-color: #00af00\">1,000,000</span> │\n",
       "├─────────────────────────────────┼────────────────────────┼───────────────┤\n",
       "│ global_average_pooling1d_5      │ ?                      │   <span style=\"color: #00af00; text-decoration-color: #00af00\">0</span> (unbuilt) │\n",
       "│ (<span style=\"color: #0087ff; text-decoration-color: #0087ff\">GlobalAveragePooling1D</span>)        │                        │               │\n",
       "├─────────────────────────────────┼────────────────────────┼───────────────┤\n",
       "│ dense_9 (<span style=\"color: #0087ff; text-decoration-color: #0087ff\">Dense</span>)                 │ ?                      │   <span style=\"color: #00af00; text-decoration-color: #00af00\">0</span> (unbuilt) │\n",
       "└─────────────────────────────────┴────────────────────────┴───────────────┘\n",
       "</pre>\n"
      ],
      "text/plain": [
       "┏━━━━━━━━━━━━━━━━━━━━━━━━━━━━━━━━━┳━━━━━━━━━━━━━━━━━━━━━━━━┳━━━━━━━━━━━━━━━┓\n",
       "┃\u001b[1m \u001b[0m\u001b[1mLayer (type)                   \u001b[0m\u001b[1m \u001b[0m┃\u001b[1m \u001b[0m\u001b[1mOutput Shape          \u001b[0m\u001b[1m \u001b[0m┃\u001b[1m \u001b[0m\u001b[1m      Param #\u001b[0m\u001b[1m \u001b[0m┃\n",
       "┡━━━━━━━━━━━━━━━━━━━━━━━━━━━━━━━━━╇━━━━━━━━━━━━━━━━━━━━━━━━╇━━━━━━━━━━━━━━━┩\n",
       "│ embedding_9 (\u001b[38;5;33mEmbedding\u001b[0m)         │ ?                      │     \u001b[38;5;34m1,000,000\u001b[0m │\n",
       "├─────────────────────────────────┼────────────────────────┼───────────────┤\n",
       "│ global_average_pooling1d_5      │ ?                      │   \u001b[38;5;34m0\u001b[0m (unbuilt) │\n",
       "│ (\u001b[38;5;33mGlobalAveragePooling1D\u001b[0m)        │                        │               │\n",
       "├─────────────────────────────────┼────────────────────────┼───────────────┤\n",
       "│ dense_9 (\u001b[38;5;33mDense\u001b[0m)                 │ ?                      │   \u001b[38;5;34m0\u001b[0m (unbuilt) │\n",
       "└─────────────────────────────────┴────────────────────────┴───────────────┘\n"
      ]
     },
     "metadata": {},
     "output_type": "display_data"
    },
    {
     "data": {
      "text/html": [
       "<pre style=\"white-space:pre;overflow-x:auto;line-height:normal;font-family:Menlo,'DejaVu Sans Mono',consolas,'Courier New',monospace\"><span style=\"font-weight: bold\"> Total params: </span><span style=\"color: #00af00; text-decoration-color: #00af00\">1,000,000</span> (3.81 MB)\n",
       "</pre>\n"
      ],
      "text/plain": [
       "\u001b[1m Total params: \u001b[0m\u001b[38;5;34m1,000,000\u001b[0m (3.81 MB)\n"
      ]
     },
     "metadata": {},
     "output_type": "display_data"
    },
    {
     "data": {
      "text/html": [
       "<pre style=\"white-space:pre;overflow-x:auto;line-height:normal;font-family:Menlo,'DejaVu Sans Mono',consolas,'Courier New',monospace\"><span style=\"font-weight: bold\"> Trainable params: </span><span style=\"color: #00af00; text-decoration-color: #00af00\">0</span> (0.00 B)\n",
       "</pre>\n"
      ],
      "text/plain": [
       "\u001b[1m Trainable params: \u001b[0m\u001b[38;5;34m0\u001b[0m (0.00 B)\n"
      ]
     },
     "metadata": {},
     "output_type": "display_data"
    },
    {
     "data": {
      "text/html": [
       "<pre style=\"white-space:pre;overflow-x:auto;line-height:normal;font-family:Menlo,'DejaVu Sans Mono',consolas,'Courier New',monospace\"><span style=\"font-weight: bold\"> Non-trainable params: </span><span style=\"color: #00af00; text-decoration-color: #00af00\">1,000,000</span> (3.81 MB)\n",
       "</pre>\n"
      ],
      "text/plain": [
       "\u001b[1m Non-trainable params: \u001b[0m\u001b[38;5;34m1,000,000\u001b[0m (3.81 MB)\n"
      ]
     },
     "metadata": {},
     "output_type": "display_data"
    }
   ],
   "source": [
    "# Compilar el modelo con el optimizador Adam y la función de pérdida de entropía cruzada binaria\n",
    "model.compile(optimizer='adam', loss='binary_crossentropy', metrics=['accuracy'])\n",
    "\n",
    "# Mostrar el resumen del modelo\n",
    "model.summary()"
   ]
  },
  {
   "cell_type": "code",
   "execution_count": 74,
   "id": "4384ffb6",
   "metadata": {},
   "outputs": [
    {
     "name": "stdout",
     "output_type": "stream",
     "text": [
      "Epoch 1/10\n",
      "\u001b[1m1250/1250\u001b[0m \u001b[32m━━━━━━━━━━━━━━━━━━━━\u001b[0m\u001b[37m\u001b[0m \u001b[1m10s\u001b[0m 7ms/step - accuracy: 0.5749 - loss: 0.6892 - val_accuracy: 0.6774 - val_loss: 0.6764\n",
      "Epoch 2/10\n",
      "\u001b[1m1250/1250\u001b[0m \u001b[32m━━━━━━━━━━━━━━━━━━━━\u001b[0m\u001b[37m\u001b[0m \u001b[1m9s\u001b[0m 7ms/step - accuracy: 0.6714 - loss: 0.6739 - val_accuracy: 0.6994 - val_loss: 0.6627\n",
      "Epoch 3/10\n",
      "\u001b[1m1250/1250\u001b[0m \u001b[32m━━━━━━━━━━━━━━━━━━━━\u001b[0m\u001b[37m\u001b[0m \u001b[1m9s\u001b[0m 7ms/step - accuracy: 0.6916 - loss: 0.6612 - val_accuracy: 0.7070 - val_loss: 0.6510\n",
      "Epoch 4/10\n",
      "\u001b[1m1250/1250\u001b[0m \u001b[32m━━━━━━━━━━━━━━━━━━━━\u001b[0m\u001b[37m\u001b[0m \u001b[1m9s\u001b[0m 7ms/step - accuracy: 0.6994 - loss: 0.6504 - val_accuracy: 0.7121 - val_loss: 0.6409\n",
      "Epoch 5/10\n",
      "\u001b[1m1250/1250\u001b[0m \u001b[32m━━━━━━━━━━━━━━━━━━━━\u001b[0m\u001b[37m\u001b[0m \u001b[1m9s\u001b[0m 7ms/step - accuracy: 0.7054 - loss: 0.6410 - val_accuracy: 0.7137 - val_loss: 0.6321\n",
      "Epoch 6/10\n",
      "\u001b[1m1250/1250\u001b[0m \u001b[32m━━━━━━━━━━━━━━━━━━━━\u001b[0m\u001b[37m\u001b[0m \u001b[1m9s\u001b[0m 7ms/step - accuracy: 0.7078 - loss: 0.6329 - val_accuracy: 0.7159 - val_loss: 0.6245\n",
      "Epoch 7/10\n",
      "\u001b[1m1250/1250\u001b[0m \u001b[32m━━━━━━━━━━━━━━━━━━━━\u001b[0m\u001b[37m\u001b[0m \u001b[1m9s\u001b[0m 7ms/step - accuracy: 0.7099 - loss: 0.6258 - val_accuracy: 0.7182 - val_loss: 0.6178\n",
      "Epoch 8/10\n",
      "\u001b[1m1250/1250\u001b[0m \u001b[32m━━━━━━━━━━━━━━━━━━━━\u001b[0m\u001b[37m\u001b[0m \u001b[1m9s\u001b[0m 7ms/step - accuracy: 0.7132 - loss: 0.6195 - val_accuracy: 0.7191 - val_loss: 0.6119\n",
      "Epoch 9/10\n",
      "\u001b[1m1250/1250\u001b[0m \u001b[32m━━━━━━━━━━━━━━━━━━━━\u001b[0m\u001b[37m\u001b[0m \u001b[1m9s\u001b[0m 7ms/step - accuracy: 0.7155 - loss: 0.6139 - val_accuracy: 0.7214 - val_loss: 0.6066\n",
      "Epoch 10/10\n",
      "\u001b[1m1250/1250\u001b[0m \u001b[32m━━━━━━━━━━━━━━━━━━━━\u001b[0m\u001b[37m\u001b[0m \u001b[1m9s\u001b[0m 7ms/step - accuracy: 0.7174 - loss: 0.6088 - val_accuracy: 0.7232 - val_loss: 0.6018\n"
     ]
    }
   ],
   "source": [
    "# Entrenar el modelo con los datos de entrenamiento y validación\n",
    "history = model.fit(X_train, y_train, epochs=10, batch_size=32, validation_data=(X_val, y_val))"
   ]
  },
  {
   "cell_type": "code",
   "execution_count": 75,
   "id": "344a5099",
   "metadata": {},
   "outputs": [],
   "source": [
    "# Función para graficar valores de entrenamiento y validación\n",
    "def graficar_entrenamiento(histories, labels, colors):\n",
    "    fig, axes = plt.subplots(1, 2, figsize=(15, 5))\n",
    "    for history, label, color in zip(histories, labels, colors):\n",
    "        axes[0].plot(history.history['accuracy'], color=color, linestyle='-', label=f'{label} Train')\n",
    "        axes[0].plot(history.history['val_accuracy'], color=color, linestyle='--', label=f'{label} Validation')\n",
    "    axes[0].set_title('Training & Validation Accuracy')\n",
    "    axes[0].set_xlabel('Epochs')\n",
    "    axes[0].set_ylabel('Accuracy')\n",
    "    axes[0].legend()\n",
    "    \n",
    "    for history, label, color in zip(histories, labels, colors):\n",
    "        axes[1].plot(history.history['loss'], color=color, linestyle='-', label=f'{label} Train')\n",
    "        axes[1].plot(history.history['val_loss'], color=color, linestyle='--', label=f'{label} Validation')\n",
    "    axes[1].set_title('Training & Validation Loss')\n",
    "    axes[1].set_xlabel('Epochs')\n",
    "    axes[1].set_ylabel('Loss')\n",
    "    axes[1].legend()\n",
    "    \n",
    "    plt.tight_layout()\n",
    "    plt.show()"
   ]
  },
  {
   "cell_type": "code",
   "execution_count": 76,
   "id": "72b30213",
   "metadata": {},
   "outputs": [],
   "source": [
    "# Método para probar el modelo con una nueva reseña\n",
    "def probar_modelo(reseña):\n",
    "    reseña_procesada = preprocess_text(reseña)\n",
    "    secuencia = tokenizer.texts_to_sequences([reseña_procesada])\n",
    "    secuencia_padded = tf.keras.preprocessing.sequence.pad_sequences(secuencia, maxlen=max_len)\n",
    "    prediccion = model.predict(secuencia_padded)\n",
    "    if prediccion >= 0.5:\n",
    "        print(\"Reseña positiva\")\n",
    "    else:\n",
    "        print(\"Reseña negativa\")"
   ]
  },
  {
   "cell_type": "code",
   "execution_count": 77,
   "id": "e159d23b",
   "metadata": {},
   "outputs": [
    {
     "data": {
      "image/png": "[encoded data removed]",
      "text/plain": [
       "<Figure size 1500x500 with 2 Axes>"
      ]
     },
     "metadata": {},
     "output_type": "display_data"
    }
   ],
   "source": [
    "# Graficar resultados del modelo\n",
    "graficar_entrenamiento([history], ['Modelo 1'], ['blue'])"
   ]
  },
  {
   "cell_type": "code",
   "execution_count": 78,
   "id": "0af7fb07",
   "metadata": {},
   "outputs": [
    {
     "name": "stdout",
     "output_type": "stream",
     "text": [
      "\u001b[1m1/1\u001b[0m \u001b[32m━━━━━━━━━━━━━━━━━━━━\u001b[0m\u001b[37m\u001b[0m \u001b[1m0s\u001b[0m 72ms/step\n",
      "Reseña positiva\n"
     ]
    }
   ],
   "source": [
    "# Probar el modelo con una reseña\n",
    "probar_modelo(\"I love this movie\")"
   ]
  },
  {
   "cell_type": "markdown",
   "id": "e8a057cb",
   "metadata": {},
   "source": [
    "### 8. Ajuste de Hiperparámetros\n",
    "- Experimentando con diferentes tamaños de batch e introduciendo dropout para reducir el sobreajuste."
   ]
  },
  {
   "cell_type": "code",
   "execution_count": 79,
   "id": "ad69b7cb",
   "metadata": {},
   "outputs": [
    {
     "name": "stdout",
     "output_type": "stream",
     "text": [
      "Epoch 1/10\n",
      "\u001b[1m2500/2500\u001b[0m \u001b[32m━━━━━━━━━━━━━━━━━━━━\u001b[0m\u001b[37m\u001b[0m \u001b[1m12s\u001b[0m 4ms/step - accuracy: 0.7201 - loss: 0.6035 - val_accuracy: 0.7267 - val_loss: 0.5949\n",
      "Epoch 2/10\n",
      "\u001b[1m2500/2500\u001b[0m \u001b[32m━━━━━━━━━━━━━━━━━━━━\u001b[0m\u001b[37m\u001b[0m \u001b[1m23s\u001b[0m 9ms/step - accuracy: 0.7230 - loss: 0.5973 - val_accuracy: 0.7290 - val_loss: 0.5894\n",
      "Epoch 3/10\n",
      "\u001b[1m2500/2500\u001b[0m \u001b[32m━━━━━━━━━━━━━━━━━━━━\u001b[0m\u001b[37m\u001b[0m \u001b[1m23s\u001b[0m 9ms/step - accuracy: 0.7255 - loss: 0.5920 - val_accuracy: 0.7319 - val_loss: 0.5845\n",
      "Epoch 4/10\n",
      "\u001b[1m2500/2500\u001b[0m \u001b[32m━━━━━━━━━━━━━━━━━━━━\u001b[0m\u001b[37m\u001b[0m \u001b[1m23s\u001b[0m 9ms/step - accuracy: 0.7277 - loss: 0.5874 - val_accuracy: 0.7328 - val_loss: 0.5802\n",
      "Epoch 5/10\n",
      "\u001b[1m2500/2500\u001b[0m \u001b[32m━━━━━━━━━━━━━━━━━━━━\u001b[0m\u001b[37m\u001b[0m \u001b[1m27s\u001b[0m 11ms/step - accuracy: 0.7301 - loss: 0.5832 - val_accuracy: 0.7359 - val_loss: 0.5763\n",
      "Epoch 6/10\n",
      "\u001b[1m2500/2500\u001b[0m \u001b[32m━━━━━━━━━━━━━━━━━━━━\u001b[0m\u001b[37m\u001b[0m \u001b[1m20s\u001b[0m 8ms/step - accuracy: 0.7321 - loss: 0.5795 - val_accuracy: 0.7376 - val_loss: 0.5727\n",
      "Epoch 7/10\n",
      "\u001b[1m2500/2500\u001b[0m \u001b[32m━━━━━━━━━━━━━━━━━━━━\u001b[0m\u001b[37m\u001b[0m \u001b[1m35s\u001b[0m 14ms/step - accuracy: 0.7342 - loss: 0.5760 - val_accuracy: 0.7390 - val_loss: 0.5694\n",
      "Epoch 8/10\n",
      "\u001b[1m2500/2500\u001b[0m \u001b[32m━━━━━━━━━━━━━━━━━━━━\u001b[0m\u001b[37m\u001b[0m \u001b[1m41s\u001b[0m 16ms/step - accuracy: 0.7370 - loss: 0.5728 - val_accuracy: 0.7413 - val_loss: 0.5664\n",
      "Epoch 9/10\n",
      "\u001b[1m2500/2500\u001b[0m \u001b[32m━━━━━━━━━━━━━━━━━━━━\u001b[0m\u001b[37m\u001b[0m \u001b[1m41s\u001b[0m 16ms/step - accuracy: 0.7388 - loss: 0.5698 - val_accuracy: 0.7430 - val_loss: 0.5636\n",
      "Epoch 10/10\n",
      "\u001b[1m2500/2500\u001b[0m \u001b[32m━━━━━━━━━━━━━━━━━━━━\u001b[0m\u001b[37m\u001b[0m \u001b[1m47s\u001b[0m 19ms/step - accuracy: 0.7404 - loss: 0.5671 - val_accuracy: 0.7442 - val_loss: 0.5609\n"
     ]
    }
   ],
   "source": [
    "# Diferentes tamaños de batch para evaluar el impacto en el rendimiento\n",
    "history_16 = model.fit(X_train, y_train, epochs=10, batch_size=16, validation_data=(X_val, y_val))"
   ]
  },
  {
   "cell_type": "code",
   "execution_count": 80,
   "id": "31c78a10",
   "metadata": {},
   "outputs": [
    {
     "name": "stdout",
     "output_type": "stream",
     "text": [
      "Epoch 1/10\n",
      "\u001b[1m1250/1250\u001b[0m \u001b[32m━━━━━━━━━━━━━━━━━━━━\u001b[0m\u001b[37m\u001b[0m \u001b[1m127s\u001b[0m 90ms/step - accuracy: 0.5185 - loss: 0.6932 - val_accuracy: 0.5893 - val_loss: 0.6679\n",
      "Epoch 2/10\n",
      "\u001b[1m1250/1250\u001b[0m \u001b[32m━━━━━━━━━━━━━━━━━━━━\u001b[0m\u001b[37m\u001b[0m \u001b[1m100s\u001b[0m 80ms/step - accuracy: 0.6094 - loss: 0.6615 - val_accuracy: 0.7622 - val_loss: 0.5997\n",
      "Epoch 3/10\n",
      "\u001b[1m1250/1250\u001b[0m \u001b[32m━━━━━━━━━━━━━━━━━━━━\u001b[0m\u001b[37m\u001b[0m \u001b[1m112s\u001b[0m 89ms/step - accuracy: 0.6873 - loss: 0.5974 - val_accuracy: 0.8173 - val_loss: 0.5110\n",
      "Epoch 4/10\n",
      "\u001b[1m1250/1250\u001b[0m \u001b[32m━━━━━━━━━━━━━━━━━━━━\u001b[0m\u001b[37m\u001b[0m \u001b[1m110s\u001b[0m 88ms/step - accuracy: 0.7525 - loss: 0.5197 - val_accuracy: 0.7175 - val_loss: 0.4976\n",
      "Epoch 5/10\n",
      "\u001b[1m1250/1250\u001b[0m \u001b[32m━━━━━━━━━━━━━━━━━━━━\u001b[0m\u001b[37m\u001b[0m \u001b[1m102s\u001b[0m 81ms/step - accuracy: 0.7908 - loss: 0.4590 - val_accuracy: 0.7616 - val_loss: 0.4531\n",
      "Epoch 6/10\n",
      "\u001b[1m1250/1250\u001b[0m \u001b[32m━━━━━━━━━━━━━━━━━━━━\u001b[0m\u001b[37m\u001b[0m \u001b[1m148s\u001b[0m 86ms/step - accuracy: 0.8175 - loss: 0.4164 - val_accuracy: 0.8096 - val_loss: 0.4064\n",
      "Epoch 7/10\n",
      "\u001b[1m1250/1250\u001b[0m \u001b[32m━━━━━━━━━━━━━━━━━━━━\u001b[0m\u001b[37m\u001b[0m \u001b[1m100s\u001b[0m 80ms/step - accuracy: 0.8357 - loss: 0.3864 - val_accuracy: 0.7972 - val_loss: 0.4069\n",
      "Epoch 8/10\n",
      "\u001b[1m1250/1250\u001b[0m \u001b[32m━━━━━━━━━━━━━━━━━━━━\u001b[0m\u001b[37m\u001b[0m \u001b[1m110s\u001b[0m 87ms/step - accuracy: 0.8422 - loss: 0.3709 - val_accuracy: 0.8454 - val_loss: 0.3619\n",
      "Epoch 9/10\n",
      "\u001b[1m1250/1250\u001b[0m \u001b[32m━━━━━━━━━━━━━━━━━━━━\u001b[0m\u001b[37m\u001b[0m \u001b[1m107s\u001b[0m 86ms/step - accuracy: 0.8483 - loss: 0.3555 - val_accuracy: 0.8609 - val_loss: 0.3393\n",
      "Epoch 10/10\n",
      "\u001b[1m1250/1250\u001b[0m \u001b[32m━━━━━━━━━━━━━━━━━━━━\u001b[0m\u001b[37m\u001b[0m \u001b[1m116s\u001b[0m 92ms/step - accuracy: 0.8548 - loss: 0.3426 - val_accuracy: 0.8737 - val_loss: 0.3197\n"
     ]
    }
   ],
   "source": [
    "\n",
    "\n",
    "# Añadiendo dropout para reducir el sobreajuste\n",
    "model_dropout = Sequential()\n",
    "# Añadir una capa de embedding que utiliza la matriz de embeddings preentrenada\n",
    "model_dropout.add(Embedding(input_dim=num_words,\n",
    "                    output_dim=embedding_dim,\n",
    "                    weights=[embedding_matrix],\n",
    "                    input_length=max_len,\n",
    "                    trainable=True))  # Permitir que se entrene\n",
    "# Añadir una capa GlobalAveragePooling para reducir dimensionalidad y prevenir el sobreajuste\n",
    "model_dropout.add(GlobalAveragePooling1D())\n",
    "# Añadir una capa de Dropout para reducir el sobreajuste\n",
    "model_dropout.add(Dropout(0.2))\n",
    "# Añadir una capa densa para la salida\n",
    "model_dropout.add(Dense(1, activation='sigmoid'))\n",
    "# Compilar el modelo\n",
    "model_dropout.compile(optimizer='adam', loss='binary_crossentropy', metrics=['accuracy'])\n",
    "\n",
    "# Entrenar el modelo con dropout\n",
    "# El Dropout ayuda a prevenir el sobreajuste al apagar aleatoriamente algunas neuronas durante el entrenamiento\n",
    "dropout_history = model_dropout.fit(X_train, y_train, epochs=10, batch_size=32, validation_data=(X_val, y_val))"
   ]
  }
 ],
 "metadata": {
  "kernelspec": {
   "display_name": "Python 3",
   "language": "python",
   "name": "python3"
  },
  "language_info": {
   "codemirror_mode": {
    "name": "ipython",
    "version": 3
   },
   "file_extension": ".py",
   "mimetype": "text/x-python",
   "name": "python",
   "nbconvert_exporter": "python",
   "pygments_lexer": "ipython3",
   "version": "3.12.1"
  }
 },
 "nbformat": 4,
 "nbformat_minor": 5
}
